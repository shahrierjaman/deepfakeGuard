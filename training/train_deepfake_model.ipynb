{
  "nbformat": 4,
  "nbformat_minor": 0,
  "metadata": {
    "colab": {
      "provenance": []
    },
    "kernelspec": {
      "name": "python3",
      "display_name": "Python 3"
    },
    "language_info": {
      "name": "python"
    }
  },
  "cells": [
    {
      "cell_type": "code",
      "source": [
        "from google.colab import drive\n",
        "drive.mount('/content/drive')"
      ],
      "metadata": {
        "colab": {
          "base_uri": "https://localhost:8080/"
        },
        "id": "iOQtuMMINGyC",
        "outputId": "0dc9ca17-5b56-4936-9446-8d5bd087051b"
      },
      "execution_count": 1,
      "outputs": [
        {
          "output_type": "stream",
          "name": "stdout",
          "text": [
            "Mounted at /content/drive\n"
          ]
        }
      ]
    },
    {
      "cell_type": "code",
      "source": [
        "# Step 1: Import Libraries\n",
        "import tensorflow as tf\n",
        "from tensorflow.keras.applications import Xception\n",
        "from tensorflow.keras.layers import Dense, GlobalAveragePooling2D\n",
        "from tensorflow.keras.models import Model\n",
        "import cv2\n",
        "import numpy as np\n",
        "import os\n",
        "from sklearn.model_selection import train_test_split\n",
        "\n",
        "# Step 2: Set Paths and Parameters\n",
        "data_dir = '/content/data'  # Path to data folder in Colab\n",
        "img_size = (224, 224)  # Size expected by Xception model\n",
        "batch_size = 8  # Small batch size for GPU training\n",
        "frames_per_video = 1  # Number of frames to extract per video\n",
        "\n",
        "# Step 3: Load and Preprocess Data\n",
        "def load_data(data_dir):\n",
        "    images = []\n",
        "    labels = []\n",
        "    for label, folder in enumerate(['real', 'fake']):\n",
        "        path = os.path.join(data_dir, folder)\n",
        "        print(f\"Loading files from {path}...\")\n",
        "        for file in os.listdir(path):\n",
        "            file_path = os.path.join(path, file)\n",
        "            if file.endswith('.png'):\n",
        "                # Load .png images\n",
        "                img = cv2.imread(file_path)\n",
        "                if img is None:\n",
        "                    continue\n",
        "                img = cv2.resize(img, img_size)\n",
        "                img = img / 255.0\n",
        "                images.append(img)\n",
        "                labels.append(label)  # 0 for real, 1 for fake\n",
        "            elif file.endswith('.mp4'):\n",
        "                cap = cv2.VideoCapture(file_path)\n",
        "                frame_count = 0\n",
        "                while frame_count < frames_per_video and cap.isOpened():\n",
        "                    ret, frame = cap.read()\n",
        "                    if not ret:\n",
        "                        break\n",
        "                    img = cv2.resize(frame, img_size)\n",
        "                    img = img / 255.0  # Normalize to 0-1\n",
        "                    images.append(img)\n",
        "                    labels.append(label)\n",
        "                    frame_count += 1\n",
        "                cap.release()\n",
        "            elif file.endswith('.npy'):\n",
        "                try:\n",
        "                    data = np.load(file_path)\n",
        "                    if len(data.shape) == 3 and data.shape[2] in [1, 3]:  # Grayscale or RGB\n",
        "                        img = cv2.resize(data, img_size)\n",
        "                        if img.shape[2] == 1:\n",
        "                            img = cv2.cvtColor(img, cv2.COLOR_GRAY2RGB)\n",
        "                        img = img / 255.0  # Normalize to 0-1\n",
        "                        images.append(img)\n",
        "                        labels.append(label)\n",
        "                except Exception as e:\n",
        "                    print(f\"Skipping .npy file {file_path}: {str(e)}\")\n",
        "                    continue\n",
        "\n",
        "    return np.array(images), np.array(labels)\n",
        "\n",
        "# Load the data\n",
        "print(\"Loading data...\")\n",
        "X, y = load_data(data_dir)\n",
        "if len(X) == 0:\n",
        "    raise ValueError(\"No files found in the data folder. Please check your dataset.\")\n",
        "X_train, X_test, y_train, y_test = train_test_split(X, y, test_size=0.2, random_state=42)\n",
        "print(f\"Training samples: {len(X_train)}, Test samples: {len(X_test)}\")\n",
        "\n",
        "# Step 4: Build the Model\n",
        "base_model = Xception(weights='imagenet', include_top=False)\n",
        "x = base_model.output\n",
        "x = GlobalAveragePooling2D()(x)\n",
        "x = Dense(1, activation='sigmoid')(x)\n",
        "model = Model(inputs=base_model.input, outputs=x)\n",
        "\n",
        "for layer in base_model.layers:\n",
        "    layer.trainable = False\n",
        "\n",
        "model.compile(optimizer='adam', loss='binary_crossentropy', metrics=['accuracy'])\n",
        "\n",
        "# Step 6: Train the Model\n",
        "print(\"Training model...\")\n",
        "model.fit(X_train, y_train, epochs=5, batch_size=batch_size, validation_data=(X_test, y_test))\n",
        "\n",
        "# Step 7: Save the Model\n",
        "model.save('/content/deepfake_detector.h5')\n",
        "print(\"Model saved as /content/deepfake_detector.h5\")"
      ],
      "metadata": {
        "id": "3yf5INiXNPx9"
      },
      "execution_count": null,
      "outputs": []
    }
  ]
}